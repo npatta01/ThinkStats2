{
 "metadata": {
  "name": "",
  "signature": "sha256:382c62b820de6faa0354215f45fa71a83e27a6af0b4ba2b30d4b459890fd2d8c"
 },
 "nbformat": 3,
 "nbformat_minor": 0,
 "worksheets": [
  {
   "cells": [
    {
     "cell_type": "code",
     "collapsed": false,
     "input": [
      "from __future__ import print_function\n",
      "\n",
      "import math\n",
      "import numpy as np\n",
      "\n",
      "import nsfg\n",
      "import first\n",
      "import thinkstats2\n",
      "import thinkplot\n",
      "%matplotlib inline\n"
     ],
     "language": "python",
     "metadata": {},
     "outputs": [],
     "prompt_number": 9
    },
    {
     "cell_type": "code",
     "collapsed": false,
     "input": [
      "pmf = thinkstats2.Pmf([1,2,2,3,5])\n",
      "pmf"
     ],
     "language": "python",
     "metadata": {},
     "outputs": [
      {
       "metadata": {},
       "output_type": "pyout",
       "prompt_number": 6,
       "text": [
        "Pmf({1: 0.2, 2: 0.4, 3: 0.2, 5: 0.2})"
       ]
      }
     ],
     "prompt_number": 6
    },
    {
     "cell_type": "code",
     "collapsed": false,
     "input": [
      "first_pmf = thinkstats2.Pmf(firsts.prglngth, label='first')\n",
      "other_pmf = thinkstats2.Pmf(others.prglngth, label='other')\n",
      "width = 0.45\n",
      "\n",
      "thinkplot.PrePlot(2, cols=2)\n",
      "thinkplot.Hist(first_pmf, align='right', width=width)\n",
      "thinkplot.Hist(other_pmf, align='left', width=width)\n",
      "thinkplot.Config(xlabel='weeks',\n",
      "                 ylabel='probability',\n",
      "                 axis=[27, 46, 0, 0.6])\n",
      "\n",
      "thinkplot.PrePlot(2)\n",
      "thinkplot.SubPlot(2)\n",
      "thinkplot.Pmfs([first_pmf, other_pmf])\n",
      "thinkplot.Show(root='probability_nsfg_pmf',\n",
      "               xlabel='weeks',\n",
      "               axis=[27, 46, 0, 0.6])"
     ],
     "language": "python",
     "metadata": {},
     "outputs": [
      {
       "metadata": {},
       "output_type": "display_data",
       "png": "[encoded data removed]",
       "text": [
        "<matplotlib.figure.Figure at 0x4923668>"
       ]
      },
      {
       "metadata": {},
       "output_type": "display_data",
       "text": [
        "<matplotlib.figure.Figure at 0x6402eb8>"
       ]
      }
     ],
     "prompt_number": 10
    },
    {
     "cell_type": "code",
     "collapsed": false,
     "input": [
      "\n",
      "\n",
      "\n",
      "def MakeHists(live):\n",
      "    \"\"\"Plot Hists for live births\n",
      "\n",
      "    live: DataFrame\n",
      "    others: DataFrame\n",
      "    \"\"\"\n",
      "    hist = thinkstats2.Hist(np.floor(live.agepreg), label='agepreg')\n",
      "    thinkplot.PrePlot(2, cols=2)\n",
      "\n",
      "    thinkplot.SubPlot(1)\n",
      "    thinkplot.Hist(hist)\n",
      "    thinkplot.Config(xlabel='years',\n",
      "                     ylabel='frequency',\n",
      "                     axis=[0, 45, 0, 700])\n",
      "\n",
      "    thinkplot.SubPlot(2)\n",
      "    thinkplot.Pmf(hist)\n",
      "\n",
      "    thinkplot.Save(root='probability_agepreg_hist', \n",
      "                   xlabel='years',\n",
      "                   axis=[0, 45, 0, 700])\n",
      "\n",
      "\n",
      "def MakeFigures(firsts, others):\n",
      "    \"\"\"Plot Pmfs of pregnancy length.\n",
      "\n",
      "    firsts: DataFrame\n",
      "    others: DataFrame\n",
      "    \"\"\"\n",
      "    # plot the PMFs\n",
      "    first_pmf = thinkstats2.Pmf(firsts.prglngth, label='first')\n",
      "    other_pmf = thinkstats2.Pmf(others.prglngth, label='other')\n",
      "    width = 0.45\n",
      "\n",
      "    thinkplot.PrePlot(2, cols=2)\n",
      "    thinkplot.Hist(first_pmf, align='right', width=width)\n",
      "    thinkplot.Hist(other_pmf, align='left', width=width)\n",
      "    thinkplot.Config(xlabel='weeks',\n",
      "                     ylabel='probability',\n",
      "                     axis=[27, 46, 0, 0.6])\n",
      "\n",
      "    thinkplot.PrePlot(2)\n",
      "    thinkplot.SubPlot(2)\n",
      "    thinkplot.Pmfs([first_pmf, other_pmf])\n",
      "    thinkplot.Save(root='probability_nsfg_pmf',\n",
      "                   xlabel='weeks',\n",
      "                   axis=[27, 46, 0, 0.6])\n",
      "\n",
      "    # plot the differences in the PMFs\n",
      "    weeks = range(35, 46)\n",
      "    diffs = []\n",
      "    for week in weeks:\n",
      "        p1 = first_pmf.Prob(week)\n",
      "        p2 = other_pmf.Prob(week)\n",
      "        diff = 100 * (p1 - p2)\n",
      "        diffs.append(diff)\n",
      "\n",
      "    thinkplot.Bar(weeks, diffs)\n",
      "    thinkplot.Save(root='probability_nsfg_diffs',\n",
      "                   title='Difference in PMFs',\n",
      "                   xlabel='weeks',\n",
      "                   ylabel='percentage points',\n",
      "                   legend=False)\n",
      "\n",
      "\n",
      "def BiasPmf(pmf, label=''):\n",
      "    \"\"\"Returns the Pmf with oversampling proportional to value.\n",
      "\n",
      "    If pmf is the distribution of true values, the result is the\n",
      "    distribution that would be seen if values are oversampled in\n",
      "    proportion to their values; for example, if you ask students\n",
      "    how big their classes are, large classes are oversampled in\n",
      "    proportion to their size.\n",
      "\n",
      "    Args:\n",
      "      pmf: Pmf object.\n",
      "      label: string label for the new Pmf.\n",
      "\n",
      "     Returns:\n",
      "       Pmf object\n",
      "    \"\"\"\n",
      "    new_pmf = pmf.Copy(label=label)\n",
      "\n",
      "    for x, p in pmf.Items():\n",
      "        new_pmf.Mult(x, x)\n",
      "        \n",
      "    new_pmf.Normalize()\n",
      "    return new_pmf\n",
      "\n",
      "\n",
      "def UnbiasPmf(pmf, label=''):\n",
      "    \"\"\"Returns the Pmf with oversampling proportional to 1/value.\n",
      "\n",
      "    Args:\n",
      "      pmf: Pmf object.\n",
      "      label: string label for the new Pmf.\n",
      "\n",
      "     Returns:\n",
      "       Pmf object\n",
      "    \"\"\"\n",
      "    new_pmf = pmf.Copy(label=label)\n",
      "\n",
      "    for x, p in pmf.Items():\n",
      "        new_pmf.Mult(x, 1.0/x)\n",
      "        \n",
      "    new_pmf.Normalize()\n",
      "    return new_pmf\n",
      "\n",
      "\n",
      "def ClassSizes():\n",
      "    \"\"\"Generate PMFs of observed and actual class size.\n",
      "    \"\"\"\n",
      "    # start with the actual distribution of class sizes from the book\n",
      "    d = { 7: 8, 12: 8, 17: 14, 22: 4, \n",
      "          27: 6, 32: 12, 37: 8, 42: 3, 47: 2 }\n",
      "\n",
      "    # form the pmf\n",
      "    pmf = thinkstats2.Pmf(d, label='actual')\n",
      "    print('mean', pmf.Mean())\n",
      "    print('var', pmf.Var())\n",
      "    \n",
      "    # compute the biased pmf\n",
      "    biased_pmf = BiasPmf(pmf, label='observed')\n",
      "    print('mean', biased_pmf.Mean())\n",
      "    print('var', biased_pmf.Var())\n",
      "\n",
      "    # unbias the biased pmf\n",
      "    unbiased_pmf = UnbiasPmf(biased_pmf, label='unbiased')\n",
      "    print('mean', unbiased_pmf.Mean())\n",
      "    print('var', unbiased_pmf.Var())\n",
      "\n",
      "    # plot the Pmfs\n",
      "    thinkplot.PrePlot(2)\n",
      "    thinkplot.Pmfs([pmf, biased_pmf])\n",
      "    thinkplot.Save(root='class_size1',\n",
      "                   xlabel='class size',\n",
      "                   ylabel='PMF',\n",
      "                   axis=[0, 52, 0, 0.27])\n",
      "    \n",
      " \n",
      "live, firsts, others = first.MakeFrames()\n",
      "MakeFigures(firsts, others)\n",
      "MakeHists(live)\n",
      "\n",
      "ClassSizes()\n",
      "\n",
      "\n",
      "\n"
     ],
     "language": "python",
     "metadata": {},
     "outputs": [
      {
       "output_type": "stream",
       "stream": "stdout",
       "text": [
        "Writing probability_nsfg_pmf.pdf\n",
        "Writing"
       ]
      },
      {
       "output_type": "stream",
       "stream": "stdout",
       "text": [
        " probability_nsfg_pmf.eps\n",
        "Writing"
       ]
      },
      {
       "output_type": "stream",
       "stream": "stdout",
       "text": [
        " probability_nsfg_diffs.pdf\n",
        "Writing"
       ]
      },
      {
       "output_type": "stream",
       "stream": "stdout",
       "text": [
        " probability_nsfg_diffs.eps\n",
        "Writing"
       ]
      },
      {
       "output_type": "stream",
       "stream": "stdout",
       "text": [
        " probability_agepreg_hist.pdf\n",
        "Writing"
       ]
      },
      {
       "output_type": "stream",
       "stream": "stdout",
       "text": [
        " probability_agepreg_hist.eps\n",
        "mean"
       ]
      },
      {
       "output_type": "stream",
       "stream": "stdout",
       "text": [
        " 23.6923076923077\n",
        "var 128.67455621301775\n",
        "mean 29.123376623376622\n",
        "var 109.22503794906395\n",
        "mean 23.69230769230769\n",
        "var 128.67455621301775\n",
        "Writing"
       ]
      },
      {
       "output_type": "stream",
       "stream": "stdout",
       "text": [
        " class_size1.pdf\n",
        "Writing"
       ]
      },
      {
       "output_type": "stream",
       "stream": "stdout",
       "text": [
        " class_size1.eps\n"
       ]
      }
     ],
     "prompt_number": 7
    },
    {
     "cell_type": "code",
     "collapsed": false,
     "input": [],
     "language": "python",
     "metadata": {},
     "outputs": []
    }
   ],
   "metadata": {}
  }
 ]
}