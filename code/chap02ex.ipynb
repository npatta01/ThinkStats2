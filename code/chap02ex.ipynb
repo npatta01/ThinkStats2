{
 "metadata": {
  "name": "",
  "signature": "sha256:d21279f00cae0609f8c6f2f08e7b96d2d9a7d04880536f77aa54f2fd38c6c723"
 },
 "nbformat": 3,
 "nbformat_minor": 0,
 "worksheets": [
  {
   "cells": [
    {
     "cell_type": "markdown",
     "metadata": {},
     "source": [
      "Exercise from Think Stats, 2nd Edition (thinkstats2.com)<br>\n",
      "Allen Downey\n",
      "\n",
      "Read the female respondent file and display the variables names."
     ]
    },
    {
     "cell_type": "code",
     "collapsed": false,
     "input": [
      "%matplotlib inline\n",
      "\n",
      "import chap01soln\n",
      "import thinkstats2\n",
      "import thinkplot\n",
      "import pandas as pd"
     ],
     "language": "python",
     "metadata": {},
     "outputs": [],
     "prompt_number": 13
    },
    {
     "cell_type": "code",
     "collapsed": false,
     "input": [
      "resp = chap01soln.ReadFemResp()\n",
      "resp.columns"
     ],
     "language": "python",
     "metadata": {},
     "outputs": [
      {
       "metadata": {},
       "output_type": "pyout",
       "prompt_number": 5,
       "text": [
        "Index(['caseid', 'rscrinf', 'rdormres', 'rostscrn', 'rscreenhisp', 'rscreenrace', 'age_a', 'age_r', 'cmbirth', 'agescrn', 'marstat', 'fmarstat', 'fmarit', 'evrmarry', 'hisp', 'hispgrp', 'numrace', 'roscnt', 'hplocale', 'manrel', 'fl_rage', 'fl_rrace', 'fl_rhisp', 'goschol', 'vaca', 'higrade', 'compgrd', 'havedip', 'dipged', 'cmhsgrad', 'havedeg', 'degrees', 'wthparnw', 'onown', 'intact', 'parmarr', 'lvsit14f', 'lvsit14m', 'womrasdu', 'momdegre', 'momworkd', 'momchild', 'momfstch', 'mom18', 'manrasdu', 'daddegre', 'bothbiol', 'intact18', 'onown18', 'numbabes', 'totplacd', 'nplaced', 'ndied', 'nadoptv', 'hasbabes', 'cmlastlb', 'cmfstprg', 'cmlstprg', 'menarche', 'pregnowq', 'maybpreg', 'numpregs', 'everpreg', 'currpreg', 'moscurrp', 'giveadpt', 'ngivenad', 'otherkid', 'nothrkid', 'sexothkd', 'relothkd', 'adptotkd', 'tryadopt', 'tryeithr', 'stilhere', 'cmokdcam', 'othkdfos', 'cmokddob', 'othkdspn', 'othkdrac1', 'othkdrac2', 'kdbstrac', 'okbornus', 'okdisabl1', 'sexothkd2', 'relothkd2', 'adptotkd2', 'tryadopt2', 'tryeithr2', 'stilhere2', 'cmokdcam2', 'othkdfos2', 'cmokddob2', 'othkdspn2', 'othkdrac6', 'okbornus2', 'okdisabl5', 'sexothkd3', 'relothkd3', 'adptotkd3', ...], dtype='object')"
       ]
      }
     ],
     "prompt_number": 5
    },
    {
     "cell_type": "markdown",
     "metadata": {},
     "source": [
      "Make a histogram of <tt>totincr</tt> the total income for the respondent's family.  To interpret the codes see the [codebook](http://www.icpsr.umich.edu/nsfg6/Controller?displayPage=labelDetails&fileCode=MALE&section=R&subSec=7958&srtLabel=609776)."
     ]
    },
    {
     "cell_type": "code",
     "collapsed": false,
     "input": [
      "hist_totincr = thinkstats2.Hist(resp.totincr)"
     ],
     "language": "python",
     "metadata": {},
     "outputs": [],
     "prompt_number": 8
    },
    {
     "cell_type": "markdown",
     "metadata": {},
     "source": [
      "Display the histogram."
     ]
    },
    {
     "cell_type": "code",
     "collapsed": false,
     "input": [
      "thinkplot.Hist(hist_totincr, label='totincr')\n",
      "thinkplot.Show()"
     ],
     "language": "python",
     "metadata": {},
     "outputs": [
      {
       "metadata": {},
       "output_type": "display_data",
       "png": "[encoded data removed]",
       "text": [
        "<matplotlib.figure.Figure at 0x174ae3c8>"
       ]
      },
      {
       "metadata": {},
       "output_type": "display_data",
       "text": [
        "<matplotlib.figure.Figure at 0x174ae5f8>"
       ]
      }
     ],
     "prompt_number": 9
    },
    {
     "cell_type": "markdown",
     "metadata": {},
     "source": [
      "Make a histogram of <tt>age_r</tt>, the respondent's age at the time of interview."
     ]
    },
    {
     "cell_type": "code",
     "collapsed": false,
     "input": [
      "hist_age_r = thinkstats2.Hist(resp.age_r)\n",
      "thinkplot.Hist(hist_age_r, label='totincr')\n",
      "thinkplot.Show()"
     ],
     "language": "python",
     "metadata": {},
     "outputs": [
      {
       "metadata": {},
       "output_type": "display_data",
       "png": "[encoded data removed]",
       "text": [
        "<matplotlib.figure.Figure at 0x919a860>"
       ]
      },
      {
       "metadata": {},
       "output_type": "display_data",
       "text": [
        "<matplotlib.figure.Figure at 0x918b860>"
       ]
      }
     ],
     "prompt_number": 10
    },
    {
     "cell_type": "markdown",
     "metadata": {},
     "source": [
      "Make a histogram of <tt>numfmhh</tt>, the number of people in the respondent's household."
     ]
    },
    {
     "cell_type": "code",
     "collapsed": false,
     "input": [
      "hist_numfmhh = thinkstats2.Hist(resp.numfmhh)\n",
      "thinkplot.Hist(hist_numfmhh, label='numfmhh')\n",
      "thinkplot.Show()"
     ],
     "language": "python",
     "metadata": {},
     "outputs": [
      {
       "metadata": {},
       "output_type": "display_data",
       "png": "[encoded data removed]",
       "text": [
        "<matplotlib.figure.Figure at 0x903aeb8>"
       ]
      },
      {
       "metadata": {},
       "output_type": "display_data",
       "text": [
        "<matplotlib.figure.Figure at 0x90ee2e8>"
       ]
      }
     ],
     "prompt_number": 11
    },
    {
     "cell_type": "markdown",
     "metadata": {},
     "source": [
      "Make a histogram of <tt>parity</tt>, the number children the respondent has borne.  How would you describe this distribution?"
     ]
    },
    {
     "cell_type": "code",
     "collapsed": false,
     "input": [
      "hist_parity = thinkstats2.Hist(resp.parity)\n",
      "thinkplot.Hist(hist_parity, label='parity')\n",
      "thinkplot.Show()"
     ],
     "language": "python",
     "metadata": {},
     "outputs": [
      {
       "metadata": {},
       "output_type": "display_data",
       "png": "[encoded data removed]",
       "text": [
        "<matplotlib.figure.Figure at 0x90b4828>"
       ]
      },
      {
       "metadata": {},
       "output_type": "display_data",
       "text": [
        "<matplotlib.figure.Figure at 0x90b47b8>"
       ]
      }
     ],
     "prompt_number": 12
    },
    {
     "cell_type": "code",
     "collapsed": false,
     "input": [
      "hist_parity.Items()"
     ],
     "language": "python",
     "metadata": {},
     "outputs": [
      {
       "metadata": {},
       "output_type": "pyout",
       "prompt_number": 20,
       "text": [
        "dict_items([(0, 3230), (1, 1519), (2, 1603), (3, 828), (4, 309), (5, 95), (6, 29), (7, 15), (8, 8), (9, 2), (10, 3), (16, 1), (22, 1)])"
       ]
      }
     ],
     "prompt_number": 20
    },
    {
     "cell_type": "markdown",
     "metadata": {},
     "source": [
      "The distirubtion of the number of children is a right skewed distribution. There are a few mothers who bore more thant 3 children"
     ]
    },
    {
     "cell_type": "markdown",
     "metadata": {},
     "source": [
      "Use Hist.Largest to find the largest values of <tt>parity</tt>."
     ]
    },
    {
     "cell_type": "code",
     "collapsed": false,
     "input": [
      "hist_parity.Largest()"
     ],
     "language": "python",
     "metadata": {},
     "outputs": [
      {
       "metadata": {},
       "output_type": "pyout",
       "prompt_number": 25,
       "text": [
        "[(22, 1),\n",
        " (16, 1),\n",
        " (10, 3),\n",
        " (9, 2),\n",
        " (8, 8),\n",
        " (7, 15),\n",
        " (6, 29),\n",
        " (5, 95),\n",
        " (4, 309),\n",
        " (3, 828)]"
       ]
      }
     ],
     "prompt_number": 25
    },
    {
     "cell_type": "markdown",
     "metadata": {},
     "source": [
      "Use <tt>totincr</tt> to select the respondents with the highest income.  Compute the distribution of <tt>parity</tt> for just the high income respondents."
     ]
    },
    {
     "cell_type": "code",
     "collapsed": false,
     "input": [
      "rich = resp[resp.totincr == 14]\n",
      "hist_rich_parity = thinkstats2.Hist(rich.parity)\n",
      "thinkplot.Hist(hist_rich_parity, label='parity')\n",
      "thinkplot.Show()"
     ],
     "language": "python",
     "metadata": {},
     "outputs": [
      {
       "metadata": {},
       "output_type": "display_data",
       "png": "[encoded data removed]",
       "text": [
        "<matplotlib.figure.Figure at 0x905d4e0>"
       ]
      },
      {
       "metadata": {},
       "output_type": "display_data",
       "text": [
        "<matplotlib.figure.Figure at 0x1c7849b0>"
       ]
      }
     ],
     "prompt_number": 33
    },
    {
     "cell_type": "markdown",
     "metadata": {},
     "source": [
      "Find the largest parities for high income respondents."
     ]
    },
    {
     "cell_type": "code",
     "collapsed": false,
     "input": [
      "hist_rich_parity.Largest()[0]"
     ],
     "language": "python",
     "metadata": {},
     "outputs": [
      {
       "metadata": {},
       "output_type": "pyout",
       "prompt_number": 34,
       "text": [
        "(8, 1)"
       ]
      }
     ],
     "prompt_number": 34
    },
    {
     "cell_type": "markdown",
     "metadata": {},
     "source": [
      "Compare the mean <tt>parity</tt> for high income respondents and others."
     ]
    },
    {
     "cell_type": "code",
     "collapsed": false,
     "input": [
      "mean_rich=rich.parity.mean()\n",
      "not_rich = resp[resp.totincr != 14]\n",
      "mean_rich=rich.parity.mean()\n",
      "mean_not_rich=not_rich.parity.mean()\n",
      "\n",
      "print(\"Not Rich: %s\" %(mean_not_rich ))\n",
      "print(\"Rich: %s\" %( mean_rich ))"
     ],
     "language": "python",
     "metadata": {},
     "outputs": [
      {
       "output_type": "stream",
       "stream": "stdout",
       "text": [
        "Not Rich: 1.24957581367\n",
        "Rich: 1.07586206897\n"
       ]
      }
     ],
     "prompt_number": 38
    },
    {
     "cell_type": "markdown",
     "metadata": {},
     "source": [
      "Investigate any other variables that look interesting."
     ]
    },
    {
     "cell_type": "code",
     "collapsed": false,
     "input": [],
     "language": "python",
     "metadata": {},
     "outputs": [],
     "prompt_number": 3
    },
    {
     "cell_type": "code",
     "collapsed": false,
     "input": [],
     "language": "python",
     "metadata": {},
     "outputs": [],
     "prompt_number": 3
    }
   ],
   "metadata": {}
  }
 ]
}