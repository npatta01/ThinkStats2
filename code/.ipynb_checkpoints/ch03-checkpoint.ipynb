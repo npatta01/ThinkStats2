{
 "metadata": {
  "name": "",
  "signature": "sha256:e3f5188f0eea8a79fc44d8bd0f5211f50685bfc81667faaa69a73de20f24407a"
 },
 "nbformat": 3,
 "nbformat_minor": 0,
 "worksheets": []
}