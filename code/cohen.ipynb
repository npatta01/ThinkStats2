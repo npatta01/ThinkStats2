{
 "cells": [
  {
   "cell_type": "code",
   "execution_count": 5,
   "metadata": {
    "collapsed": true
   },
   "outputs": [],
   "source": [
    "%matplotlib inline\n",
    "\n",
    "import chap01soln\n",
    "import thinkstats2\n",
    "import thinkplot\n",
    "import pandas as pd\n",
    "import nsfg"
   ]
  },
  {
   "cell_type": "markdown",
   "metadata": {},
   "source": [
    "Exercise 4   Using the variable totalwgt_lb, investigate whether first babies are lighter or heavier than others. Compute Cohen’s d to quantify the difference between the groups. How does it compare to the difference in pregnancy length?"
   ]
  },
  {
   "cell_type": "markdown",
   "metadata": {},
   "source": [
    "Cohens effect size is a way to measure the \"effect size\"/difference between two groups. Below is one way to implment it"
   ]
  },
  {
   "cell_type": "code",
   "execution_count": 3,
   "metadata": {
    "collapsed": true
   },
   "outputs": [],
   "source": [
    "def CohenEffectSize(group1, group2):\n",
    "    diff = group1.mean() - group2.mean()\n",
    "    var1 = group1.var()\n",
    "    var2 = group2.var()\n",
    "    n1, n2 = len(group1), len(group2)\n",
    "    pooled_var = (n1 * var1 + n2 * var2) / (n1 + n2)\n",
    "    d = diff / math.sqrt(pooled_var)\n",
    "    return d\n"
   ]
  },
  {
   "cell_type": "code",
   "execution_count": 8,
   "metadata": {
    "collapsed": false
   },
   "outputs": [
    {
     "name": "stderr",
     "output_type": "stream",
     "text": [
      "C:\\Users\\Nidhin\\Desktop\\metis\\ThinkStats2\\code\\nsfg.py:42: SettingWithCopyWarning: \n",
      "A value is trying to be set on a copy of a slice from a DataFrame\n",
      "\n",
      "See the the caveats in the documentation: http://pandas.pydata.org/pandas-docs/stable/indexing.html#indexing-view-versus-copy\n",
      "  df.birthwgt_lb[df.birthwgt_lb > 20] = np.nan\n"
     ]
    }
   ],
   "source": [
    "preg = nsfg.ReadFemPreg()\n",
    "#babies that lived\n",
    "live = preg[preg.outcome == 1]\n",
    "# first baby of mother\n",
    "firsts = live[live.birthord == 1]\n",
    "# second and later babies of mother\n",
    "others = live[live.birthord != 1]"
   ]
  },
  {
   "cell_type": "code",
   "execution_count": 16,
   "metadata": {
    "collapsed": false
   },
   "outputs": [
    {
     "name": "stdout",
     "output_type": "stream",
     "text": [
      "Avg weight for first child is 7.20109443044 with var 2.01802730092\n",
      "Avg weight for second child is 7.32585561497 with var 1.9437810259\n",
      "Cohen d for weight is -0.0886729270726\n"
     ]
    }
   ],
   "source": [
    "mean1 = firsts.totalwgt_lb.mean()\n",
    "mean2 = others.totalwgt_lb.mean()\n",
    "\n",
    "var1 = firsts.totalwgt_lb.var()\n",
    "var2 = others.totalwgt_lb.var()\n",
    "\n",
    "d = thinkstats2.CohenEffectSize(firsts.totalwgt_lb, others.totalwgt_lb)\n",
    "print('Avg weight for first child is %s with var %s' %(mean1,var1))\n",
    "print('Avg weight for second child is %s with var %s' %(mean2,var2))\n",
    "print('Cohen d for weight is', d)"
   ]
  },
  {
   "cell_type": "code",
   "execution_count": null,
   "metadata": {
    "collapsed": true
   },
   "outputs": [],
   "source": []
  },
  {
   "cell_type": "code",
   "execution_count": 17,
   "metadata": {
    "collapsed": false
   },
   "outputs": [
    {
     "name": "stdout",
     "output_type": "stream",
     "text": [
      "Avg preg length for first child is 38.6009517335 with var 7.79471350923\n",
      "Avg preg length for second child is 38.5229144667 with var 6.8426835193\n",
      "Cohen d for preg length is 0.0288790446544\n"
     ]
    }
   ],
   "source": [
    "mean1 = firsts.prglngth.mean()\n",
    "mean2 = others.prglngth.mean()\n",
    "\n",
    "var1 = firsts.prglngth.var()\n",
    "var2 = others.prglngth.var()\n",
    "d = thinkstats2.CohenEffectSize(firsts.prglngth, others.prglngth)\n",
    "\n",
    "print('Avg preg length for first child is %s with var %s' %(mean1,var1))\n",
    "print('Avg preg length for second child/later is %s with var %s' %(mean2,var2))\n",
    "print('Cohen d for preg length is', d)"
   ]
  },
  {
   "cell_type": "code",
   "execution_count": null,
   "metadata": {
    "collapsed": true
   },
   "outputs": [],
   "source": []
  },
  {
   "cell_type": "markdown",
   "metadata": {},
   "source": [
    "The difference between the weight of two groups (first child, not first child) mean is -0.088 standard deviation.\n",
    "The difference between the pregnancy length of two groups (first child, not first child) mean is 0.028 standard deviation.\n",
    "\n",
    "In both the weight and pregnancy length, the differnce is too small to be meaningful"
   ]
  },
  {
   "cell_type": "code",
   "execution_count": null,
   "metadata": {
    "collapsed": true
   },
   "outputs": [],
   "source": []
  }
 ],
 "metadata": {
  "kernelspec": {
   "display_name": "Python 3",
   "language": "python",
   "name": "python3"
  },
  "language_info": {
   "codemirror_mode": {
    "name": "ipython",
    "version": 3
   },
   "file_extension": ".py",
   "mimetype": "text/x-python",
   "name": "python",
   "nbconvert_exporter": "python",
   "pygments_lexer": "ipython3",
   "version": "3.4.3"
  }
 },
 "nbformat": 4,
 "nbformat_minor": 0
}
