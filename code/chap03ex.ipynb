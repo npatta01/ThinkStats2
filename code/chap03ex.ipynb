{
 "metadata": {
  "name": "",
  "signature": "sha256:1a9d0763db1d3d49abf039c2cc39805946b09cf5393e59ffdcc6f9c08f18cd87"
 },
 "nbformat": 3,
 "nbformat_minor": 0,
 "worksheets": [
  {
   "cells": [
    {
     "cell_type": "markdown",
     "metadata": {},
     "source": [
      "Exercise from Think Stats, 2nd Edition (thinkstats2.com)<br>\n",
      "Allen Downey\n",
      "\n",
      "Read the female respondent file."
     ]
    },
    {
     "cell_type": "code",
     "collapsed": false,
     "input": [
      "%matplotlib inline\n",
      "\n",
      "import chap01soln\n",
      "import math\n",
      "import numpy as np\n",
      "\n",
      "import nsfg\n",
      "import first\n",
      "import thinkstats2\n",
      "import thinkplot\n",
      "%matplotlib inline\n",
      "resp = chap01soln.ReadFemResp()"
     ],
     "language": "python",
     "metadata": {},
     "outputs": [],
     "prompt_number": 4
    },
    {
     "cell_type": "markdown",
     "metadata": {},
     "source": [
      "Make a PMF of <tt>numkdhh</tt>, the number of children under 18 in the respondent's household."
     ]
    },
    {
     "cell_type": "code",
     "collapsed": false,
     "input": [
      "resp.head()"
     ],
     "language": "python",
     "metadata": {},
     "outputs": [
      {
       "html": [
        "<div style=\"max-height:1000px;max-width:1500px;overflow:auto;\">\n",
        "<table border=\"1\" class=\"dataframe\">\n",
        "  <thead>\n",
        "    <tr style=\"text-align: right;\">\n",
        "      <th></th>\n",
        "      <th>caseid</th>\n",
        "      <th>rscrinf</th>\n",
        "      <th>rdormres</th>\n",
        "      <th>rostscrn</th>\n",
        "      <th>rscreenhisp</th>\n",
        "      <th>rscreenrace</th>\n",
        "      <th>age_a</th>\n",
        "      <th>age_r</th>\n",
        "      <th>cmbirth</th>\n",
        "      <th>agescrn</th>\n",
        "      <th>...</th>\n",
        "      <th>pubassis_i</th>\n",
        "      <th>basewgt</th>\n",
        "      <th>adj_mod_basewgt</th>\n",
        "      <th>finalwgt</th>\n",
        "      <th>secu_r</th>\n",
        "      <th>sest</th>\n",
        "      <th>cmintvw</th>\n",
        "      <th>cmlstyr</th>\n",
        "      <th>screentime</th>\n",
        "      <th>intvlngth</th>\n",
        "    </tr>\n",
        "  </thead>\n",
        "  <tbody>\n",
        "    <tr>\n",
        "      <th>0</th>\n",
        "      <td>  2298</td>\n",
        "      <td> 1</td>\n",
        "      <td> 5</td>\n",
        "      <td> 5</td>\n",
        "      <td> 1</td>\n",
        "      <td> 5</td>\n",
        "      <td> 27</td>\n",
        "      <td> 27</td>\n",
        "      <td>  902</td>\n",
        "      <td> 27</td>\n",
        "      <td>...</td>\n",
        "      <td> 0</td>\n",
        "      <td> 3247.916977</td>\n",
        "      <td> 5123.759559</td>\n",
        "      <td> 5556.717241</td>\n",
        "      <td> 2</td>\n",
        "      <td> 18</td>\n",
        "      <td> 1234</td>\n",
        "      <td> 1222</td>\n",
        "      <td> 18:26:36</td>\n",
        "      <td> 110.492667</td>\n",
        "    </tr>\n",
        "    <tr>\n",
        "      <th>1</th>\n",
        "      <td>  5012</td>\n",
        "      <td> 1</td>\n",
        "      <td> 5</td>\n",
        "      <td> 1</td>\n",
        "      <td> 5</td>\n",
        "      <td> 5</td>\n",
        "      <td> 42</td>\n",
        "      <td> 42</td>\n",
        "      <td>  718</td>\n",
        "      <td> 42</td>\n",
        "      <td>...</td>\n",
        "      <td> 0</td>\n",
        "      <td> 2335.279149</td>\n",
        "      <td> 2846.799490</td>\n",
        "      <td> 4744.191350</td>\n",
        "      <td> 2</td>\n",
        "      <td> 18</td>\n",
        "      <td> 1233</td>\n",
        "      <td> 1221</td>\n",
        "      <td> 16:30:59</td>\n",
        "      <td>  64.294000</td>\n",
        "    </tr>\n",
        "    <tr>\n",
        "      <th>2</th>\n",
        "      <td> 11586</td>\n",
        "      <td> 1</td>\n",
        "      <td> 5</td>\n",
        "      <td> 1</td>\n",
        "      <td> 5</td>\n",
        "      <td> 5</td>\n",
        "      <td> 43</td>\n",
        "      <td> 43</td>\n",
        "      <td>  708</td>\n",
        "      <td> 43</td>\n",
        "      <td>...</td>\n",
        "      <td> 0</td>\n",
        "      <td> 2335.279149</td>\n",
        "      <td> 2846.799490</td>\n",
        "      <td> 4744.191350</td>\n",
        "      <td> 2</td>\n",
        "      <td> 18</td>\n",
        "      <td> 1234</td>\n",
        "      <td> 1222</td>\n",
        "      <td> 18:19:09</td>\n",
        "      <td>  75.149167</td>\n",
        "    </tr>\n",
        "    <tr>\n",
        "      <th>3</th>\n",
        "      <td>  6794</td>\n",
        "      <td> 5</td>\n",
        "      <td> 5</td>\n",
        "      <td> 4</td>\n",
        "      <td> 1</td>\n",
        "      <td> 5</td>\n",
        "      <td> 15</td>\n",
        "      <td> 15</td>\n",
        "      <td> 1042</td>\n",
        "      <td> 15</td>\n",
        "      <td>...</td>\n",
        "      <td> 0</td>\n",
        "      <td> 3783.152221</td>\n",
        "      <td> 5071.464231</td>\n",
        "      <td> 5923.977368</td>\n",
        "      <td> 2</td>\n",
        "      <td> 18</td>\n",
        "      <td> 1234</td>\n",
        "      <td> 1222</td>\n",
        "      <td> 15:54:43</td>\n",
        "      <td>  28.642833</td>\n",
        "    </tr>\n",
        "    <tr>\n",
        "      <th>4</th>\n",
        "      <td>   616</td>\n",
        "      <td> 1</td>\n",
        "      <td> 5</td>\n",
        "      <td> 4</td>\n",
        "      <td> 1</td>\n",
        "      <td> 5</td>\n",
        "      <td> 20</td>\n",
        "      <td> 20</td>\n",
        "      <td>  991</td>\n",
        "      <td> 20</td>\n",
        "      <td>...</td>\n",
        "      <td> 0</td>\n",
        "      <td> 5341.329968</td>\n",
        "      <td> 6437.335772</td>\n",
        "      <td> 7229.128072</td>\n",
        "      <td> 2</td>\n",
        "      <td> 18</td>\n",
        "      <td> 1233</td>\n",
        "      <td> 1221</td>\n",
        "      <td> 14:19:44</td>\n",
        "      <td>  69.502667</td>\n",
        "    </tr>\n",
        "  </tbody>\n",
        "</table>\n",
        "<p>5 rows \u00d7 3087 columns</p>\n",
        "</div>"
       ],
       "metadata": {},
       "output_type": "pyout",
       "prompt_number": 2,
       "text": [
        "   caseid  rscrinf  rdormres  rostscrn  rscreenhisp  rscreenrace  age_a  \\\n",
        "0    2298        1         5         5            1            5     27   \n",
        "1    5012        1         5         1            5            5     42   \n",
        "2   11586        1         5         1            5            5     43   \n",
        "3    6794        5         5         4            1            5     15   \n",
        "4     616        1         5         4            1            5     20   \n",
        "\n",
        "   age_r  cmbirth  agescrn   ...     pubassis_i      basewgt  adj_mod_basewgt  \\\n",
        "0     27      902       27   ...              0  3247.916977      5123.759559   \n",
        "1     42      718       42   ...              0  2335.279149      2846.799490   \n",
        "2     43      708       43   ...              0  2335.279149      2846.799490   \n",
        "3     15     1042       15   ...              0  3783.152221      5071.464231   \n",
        "4     20      991       20   ...              0  5341.329968      6437.335772   \n",
        "\n",
        "      finalwgt  secu_r  sest  cmintvw  cmlstyr  screentime   intvlngth  \n",
        "0  5556.717241       2    18     1234     1222    18:26:36  110.492667  \n",
        "1  4744.191350       2    18     1233     1221    16:30:59   64.294000  \n",
        "2  4744.191350       2    18     1234     1222    18:19:09   75.149167  \n",
        "3  5923.977368       2    18     1234     1222    15:54:43   28.642833  \n",
        "4  7229.128072       2    18     1233     1221    14:19:44   69.502667  \n",
        "\n",
        "[5 rows x 3087 columns]"
       ]
      }
     ],
     "prompt_number": 2
    },
    {
     "cell_type": "code",
     "collapsed": false,
     "input": [
      "numdkh_pmf=thinkstats2.Pmf(resp.numkdhh, label='num children < 18')\n",
      "numdkh_pmf"
     ],
     "language": "python",
     "metadata": {},
     "outputs": [
      {
       "metadata": {},
       "output_type": "pyout",
       "prompt_number": 11,
       "text": [
        "Pmf({0: 0.46617820227659301, 1: 0.21405207379301322, 2: 0.19625801386889966, 3: 0.087138558157791451, 4: 0.025644380478869556, 5: 0.010728771424833181})"
       ]
      }
     ],
     "prompt_number": 11
    },
    {
     "cell_type": "markdown",
     "metadata": {},
     "source": [
      "Display the PMF."
     ]
    },
    {
     "cell_type": "code",
     "collapsed": false,
     "input": [
      "thinkplot.Pmf(numdkh_pmf, label='numkdhh')\n",
      "thinkplot.Show()"
     ],
     "language": "python",
     "metadata": {},
     "outputs": [
      {
       "metadata": {},
       "output_type": "display_data",
       "png": "[encoded data removed]",
       "text": [
        "<matplotlib.figure.Figure at 0x1b1baba8>"
       ]
      },
      {
       "metadata": {},
       "output_type": "display_data",
       "text": [
        "<matplotlib.figure.Figure at 0x1b1bab70>"
       ]
      }
     ],
     "prompt_number": 10
    },
    {
     "cell_type": "markdown",
     "metadata": {},
     "source": [
      "Define <tt>BiasPmf</tt>."
     ]
    },
    {
     "cell_type": "code",
     "collapsed": false,
     "input": [
      "biased_pmf = numdkh_pmf.Copy(label='biased numkdhh')\n",
      "\n",
      "for x, p in biased_pmf.Items():\n",
      "    biased_pmf.Mult(x, x)\n",
      "        \n",
      "biased_pmf.Normalize()"
     ],
     "language": "python",
     "metadata": {},
     "outputs": [
      {
       "metadata": {},
       "output_type": "pyout",
       "prompt_number": 17,
       "text": [
        "1.0242051550438309"
       ]
      }
     ],
     "prompt_number": 17
    },
    {
     "cell_type": "markdown",
     "metadata": {},
     "source": [
      "Make a the biased Pmf of children in the household, as observed if you surveyed the children instead of the respondents."
     ]
    },
    {
     "cell_type": "code",
     "collapsed": false,
     "input": [],
     "language": "python",
     "metadata": {},
     "outputs": [],
     "prompt_number": 2
    },
    {
     "cell_type": "markdown",
     "metadata": {},
     "source": [
      "Display the actual Pmf and the biased Pmf on the same axes."
     ]
    },
    {
     "cell_type": "code",
     "collapsed": false,
     "input": [
      "thinkplot.PrePlot(2)\n",
      "thinkplot.Pmfs([numdkh_pmf, biased_pmf])\n",
      "thinkplot.Show()"
     ],
     "language": "python",
     "metadata": {},
     "outputs": [
      {
       "metadata": {},
       "output_type": "display_data",
       "png": "[encoded data removed]",
       "text": [
        "<matplotlib.figure.Figure at 0x922b0f0>"
       ]
      },
      {
       "metadata": {},
       "output_type": "display_data",
       "text": [
        "<matplotlib.figure.Figure at 0x922be80>"
       ]
      }
     ],
     "prompt_number": 18
    },
    {
     "cell_type": "markdown",
     "metadata": {},
     "source": [
      "Compute the means of the two Pmfs."
     ]
    },
    {
     "cell_type": "code",
     "collapsed": false,
     "input": [
      "numdkh_pmf.Mean()"
     ],
     "language": "python",
     "metadata": {},
     "outputs": [
      {
       "metadata": {},
       "output_type": "pyout",
       "prompt_number": 21,
       "text": [
        "1.0242051550438309"
       ]
      }
     ],
     "prompt_number": 21
    },
    {
     "cell_type": "code",
     "collapsed": false,
     "input": [
      "biased_pmf.Mean()"
     ],
     "language": "python",
     "metadata": {},
     "outputs": [
      {
       "metadata": {},
       "output_type": "pyout",
       "prompt_number": 22,
       "text": [
        "2.4036791006642821"
       ]
      }
     ],
     "prompt_number": 22
    },
    {
     "cell_type": "code",
     "collapsed": false,
     "input": [],
     "language": "python",
     "metadata": {},
     "outputs": [],
     "prompt_number": 2
    }
   ],
   "metadata": {}
  }
 ]
}